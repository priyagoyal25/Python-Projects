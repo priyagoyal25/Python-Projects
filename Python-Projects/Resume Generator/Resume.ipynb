{
 "cells": [
  {
   "cell_type": "markdown",
   "id": "01b23297",
   "metadata": {},
   "source": [
    "# Resume Generator"
   ]
  },
  {
   "cell_type": "markdown",
   "id": "0906d647",
   "metadata": {},
   "source": [
    "### Replace the details of your own \n",
    "+ e.g. Your Name , Your address.."
   ]
  },
  {
   "cell_type": "code",
   "execution_count": 8,
   "id": "8ae232ab",
   "metadata": {},
   "outputs": [
    {
     "name": "stdout",
     "output_type": "stream",
     "text": [
      "Resume saved as Your_resume.pdf\n"
     ]
    }
   ],
   "source": [
    "from reportlab.lib.pagesizes import letter\n",
    "from reportlab.lib import colors\n",
    "from reportlab.lib.styles import getSampleStyleSheet, ParagraphStyle\n",
    "from reportlab.lib.enums import TA_CENTER\n",
    "from reportlab.platypus import SimpleDocTemplate, Paragraph, Spacer,Image\n",
    "\n",
    "\n",
    "def create_pdf_resume(output_filename):\n",
    "    doc = SimpleDocTemplate(output_filename, pagesize=letter)\n",
    "\n",
    "    # Styles\n",
    "    styles = getSampleStyleSheet()\n",
    "    center_style = ParagraphStyle(name='CenterStyle', alignment=TA_CENTER)\n",
    "    title_style = styles['Heading1']\n",
    "    sub_title_style=styles['Heading2']\n",
    "    content_style = styles['Normal']\n",
    "\n",
    "    # Create content\n",
    "    content = []\n",
    "    image = \"profile.jpg\"  # Replace with the path to your image file\n",
    "    image_width = 100\n",
    "    image_height = 100\n",
    "    content.append(Paragraph('<font color=red>Your Name</font>', title_style))\n",
    "#     content.append(Spacer(1, 12))\n",
    "\n",
    "    content.append(Image(image, width=image_width, height=image_height,hAlign='RIGHT'))\n",
    "\n",
    "\n",
    "    content.append(Paragraph('<font color=green><bullet>&bull;</bullet> Contact Information:</font>', sub_title_style))\n",
    "    content.append(Paragraph('<font color=blue>Address:</font> Your Address', content_style))\n",
    "    content.append(Paragraph('<font color=blue>Phone: </font>(123) 456-7890', content_style))\n",
    "    content.append(Paragraph('<font color=blue>Email:</font> your.email@example.com', content_style))\n",
    "    content.append(Spacer(1, 12))\n",
    "\n",
    "    content.append(Paragraph('<font color=green><bullet>&bull;</bullet> Education:</font>', sub_title_style))\n",
    "    content.append(Paragraph('<font color=blue>Degree:</font> Your Degree', content_style))\n",
    "    content.append(Paragraph('<font color=blue>School: </font>University Name', content_style))\n",
    "    content.append(Paragraph('<font color=blue>Date: </font>Graduation Date', content_style))\n",
    "    content.append(Spacer(1, 12))\n",
    "\n",
    "    content.append(Paragraph('<font color=green><bullet>&bull;</bullet> Experience:</font>', sub_title_style))\n",
    "    content.append(Paragraph('<font color=blue>Job Title:</font> Your Job Title', content_style))\n",
    "    content.append(Paragraph('<font color=blue>Company:</font> Company Name', content_style))\n",
    "    content.append(Paragraph('<font color=blue>Date:</font> Start Date - End Date', content_style))\n",
    "    content.append(Paragraph('<font color=blue>Description: </font>Brief description of your responsibilities and achievements.', content_style))\n",
    "    content.append(Spacer(1, 12))\n",
    "\n",
    "    content.append(Paragraph('<font color=green><bullet>&bull;</bullet> Skills:</font>', sub_title_style))\n",
    "    skills_list = ['Skill 1', 'Skill 2', 'Skill 3']\n",
    "    for skill in skills_list:\n",
    "        content.append(Paragraph(skill, content_style))\n",
    "\n",
    "    \n",
    "    doc.build(content)\n",
    "    \n",
    "\n",
    "if __name__ == '__main__':\n",
    "    output_filename = 'Your_resume.pdf'\n",
    "    create_pdf_resume(output_filename)\n",
    "    print(f'Resume saved as {output_filename}')\n"
   ]
  },
  {
   "cell_type": "code",
   "execution_count": null,
   "id": "a51b6c64",
   "metadata": {},
   "outputs": [],
   "source": []
  },
  {
   "cell_type": "code",
   "execution_count": null,
   "id": "b35614ef",
   "metadata": {},
   "outputs": [],
   "source": []
  }
 ],
 "metadata": {
  "kernelspec": {
   "display_name": "Python 3 (ipykernel)",
   "language": "python",
   "name": "python3"
  },
  "language_info": {
   "codemirror_mode": {
    "name": "ipython",
    "version": 3
   },
   "file_extension": ".py",
   "mimetype": "text/x-python",
   "name": "python",
   "nbconvert_exporter": "python",
   "pygments_lexer": "ipython3",
   "version": "3.11.3"
  }
 },
 "nbformat": 4,
 "nbformat_minor": 5
}
