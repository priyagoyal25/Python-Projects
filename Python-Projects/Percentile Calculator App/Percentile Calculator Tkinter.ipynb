{
 "cells": [
  {
   "cell_type": "markdown",
   "id": "0d0b7636",
   "metadata": {},
   "source": [
    "## Calculate Percentile \n",
    "\n",
    "give dataset of comma-separated"
   ]
  },
  {
   "cell_type": "code",
   "execution_count": 2,
   "id": "f9de27f2",
   "metadata": {},
   "outputs": [],
   "source": [
    "from tkinter import *\n",
    "import tkinter as tk\n",
    "\n",
    "window=tk.Tk()\n",
    "window.title(\"Percentile calculator\")\n",
    "window.geometry(\"500x400\")\n",
    "window[\"bg\"]=\"yellow\"\n",
    "\n",
    "def calculate_percentile():\n",
    "    data = list(map(int, e1.get().split(sep=\",\")))\n",
    "    data.sort()\n",
    "    p=int(e2.get())\n",
    "    r=(p/100)*(len(data)-1)\n",
    "    q=int(r)\n",
    "    s=r-q\n",
    "    if s == 0 :\n",
    "        per = data[q]\n",
    "    else:\n",
    "        per=data[q]+s*(data[q+1]-data[q])\n",
    "    Label(window,height=2,text=f\"{p}th percentile is: {per}\",fg=\"red\",bg=\"yellow\",font=(\"Monospace\",14)).grid(row=3)\n",
    "    \n",
    "\n",
    "Label(window,height=2,text=\"Enter dataset (comma separated):\",bg=\"yellow\",font=(\"Monospace\",14)).grid(row=0)\n",
    "Label(window,height=2,text=\"Find percentile (25 50,etc..):\",bg=\"yellow\",font=(\"Monospace\",14)).grid(row=1)\n",
    "submit_btn=Button(window,bg=\"lightgreen\", text=\"Calculate Percentile\",font=(\"Monospace\",14),command=calculate_percentile)\n",
    "\n",
    "e1=Entry(window,font=(\"Monospace\",13))\n",
    "e2=Entry(window,font=(\"Monospace\",13))\n",
    "\n",
    "e1.grid(row=0,column=1)\n",
    "e2.grid(row=1,column=1)\n",
    "submit_btn.grid(row=2,column=1)\n",
    "\n",
    "mainloop()"
   ]
  },
  {
   "cell_type": "code",
   "execution_count": null,
   "id": "afa18b3b",
   "metadata": {},
   "outputs": [],
   "source": []
  }
 ],
 "metadata": {
  "kernelspec": {
   "display_name": "Python 3 (ipykernel)",
   "language": "python",
   "name": "python3"
  },
  "language_info": {
   "codemirror_mode": {
    "name": "ipython",
    "version": 3
   },
   "file_extension": ".py",
   "mimetype": "text/x-python",
   "name": "python",
   "nbconvert_exporter": "python",
   "pygments_lexer": "ipython3",
   "version": "3.11.3"
  }
 },
 "nbformat": 4,
 "nbformat_minor": 5
}
